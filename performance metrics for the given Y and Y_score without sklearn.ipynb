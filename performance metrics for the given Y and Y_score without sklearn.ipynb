{
 "cells": [
  {
   "cell_type": "markdown",
   "metadata": {
    "colab_type": "text",
    "id": "s0Ej_bXyQvnV"
   },
   "source": [
    "# Compute performance metrics for the given Y and Y_score without sklearn"
   ]
  },
  {
   "cell_type": "code",
   "execution_count": 11,
   "metadata": {
    "colab": {},
    "colab_type": "code",
    "id": "4CHb6NE7Qvnc"
   },
   "outputs": [],
   "source": [
    "import numpy as np\n",
    "import pandas as pd\n",
    "import matplotlib.pyplot as plt\n",
    "import warnings\n",
    "\n",
    "# other than these two you should not import any other packages"
   ]
  },
  {
   "cell_type": "markdown",
   "metadata": {
    "colab_type": "text",
    "id": "KbsWXuDaQvnq"
   },
   "source": [
    "<pre>\n",
    "<font color='red'><b>A.</b></font> Compute performance metrics for the given data <strong>5_a.csv</strong>\n",
    "   <b>Note 1:</b> in this data you can see number of positive points >> number of negatives points\n",
    "   <b>Note 2:</b> use pandas or numpy to read the data from <b>5_a.csv</b>\n",
    "   <b>Note 3:</b> you need to derive the class labels from given score</pre> $y^{pred}= \\text{[0 if y_score < 0.5 else 1]}$\n",
    "\n",
    "<pre>\n",
    "<ol>\n",
    "<li> Compute Confusion Matrix </li>\n",
    "<li> Compute F1 Score </li>\n",
    "<li> Compute AUC Score, you need to compute different thresholds and for each threshold compute tpr,fpr and then use               numpy.trapz(tpr_array, fpr_array) <a href='https://stackoverflow.com/q/53603376/4084039'>https://stackoverflow.com/q/53603376/4084039</a>, <a href='https://stackoverflow.com/a/39678975/4084039'>https://stackoverflow.com/a/39678975/4084039</a> Note: it should be numpy.trapz(tpr_array, fpr_array) not numpy.trapz(fpr_array, tpr_array)</li>\n",
    "<li> Compute Accuracy Score </li>\n",
    "</ol>\n",
    "</pre>"
   ]
  },
  {
   "cell_type": "code",
   "execution_count": 12,
   "metadata": {
    "colab": {},
    "colab_type": "code",
    "id": "WaFLW7oBQvnt"
   },
   "outputs": [
    {
     "data": {
      "text/html": [
       "<div>\n",
       "<style scoped>\n",
       "    .dataframe tbody tr th:only-of-type {\n",
       "        vertical-align: middle;\n",
       "    }\n",
       "\n",
       "    .dataframe tbody tr th {\n",
       "        vertical-align: top;\n",
       "    }\n",
       "\n",
       "    .dataframe thead th {\n",
       "        text-align: right;\n",
       "    }\n",
       "</style>\n",
       "<table border=\"1\" class=\"dataframe\">\n",
       "  <thead>\n",
       "    <tr style=\"text-align: right;\">\n",
       "      <th></th>\n",
       "      <th>y</th>\n",
       "      <th>proba</th>\n",
       "    </tr>\n",
       "  </thead>\n",
       "  <tbody>\n",
       "    <tr>\n",
       "      <td>0</td>\n",
       "      <td>1.0</td>\n",
       "      <td>0.637387</td>\n",
       "    </tr>\n",
       "  </tbody>\n",
       "</table>\n",
       "</div>"
      ],
      "text/plain": [
       "     y     proba\n",
       "0  1.0  0.637387"
      ]
     },
     "execution_count": 12,
     "metadata": {},
     "output_type": "execute_result"
    }
   ],
   "source": [
    "df=pd.read_csv('5_a.csv')\n",
    "df.head(1)"
   ]
  },
  {
   "cell_type": "code",
   "execution_count": 13,
   "metadata": {},
   "outputs": [
    {
     "data": {
      "text/plain": [
       "1.0    10100\n",
       "Name: pred, dtype: int64"
      ]
     },
     "execution_count": 13,
     "metadata": {},
     "output_type": "execute_result"
    }
   ],
   "source": [
    "df.loc[df['proba'] < 0.5, 'pred'] = 0.0\n",
    "df.loc[df['proba'] > 0.5, 'pred'] = 1.0\n",
    "df.pred.value_counts()"
   ]
  },
  {
   "cell_type": "code",
   "execution_count": 14,
   "metadata": {},
   "outputs": [],
   "source": [
    "equal=df['pred']==df['y'] \n",
    "ones=df['y']==1 \n",
    "zeros=df['y']==0\n",
    "\n",
    "not_equal=df['pred']!=df['y'] \n"
   ]
  },
  {
   "cell_type": "code",
   "execution_count": 15,
   "metadata": {},
   "outputs": [],
   "source": [
    "df.loc[equal & ones, 'mat']='TP'\n",
    "df.loc[equal & zeros, 'mat']='TN'\n",
    "df.loc[not_equal & ones, 'mat']='FP'\n",
    "df.loc[not_equal & zeros, 'mat']='FN'"
   ]
  },
  {
   "cell_type": "code",
   "execution_count": null,
   "metadata": {},
   "outputs": [],
   "source": []
  },
  {
   "cell_type": "code",
   "execution_count": 16,
   "metadata": {},
   "outputs": [
    {
     "name": "stdout",
     "output_type": "stream",
     "text": [
      "Recall is 0.99 and Precision is 1.0\n",
      "The F1 Score is 0.9950248756218906\n"
     ]
    }
   ],
   "source": [
    "TP=df[df.mat=='TP'].count()[0]\n",
    "TN=df[df.mat=='TN'].count()[0]\n",
    "FP=df[df.mat=='FP'].count()[0]\n",
    "FN=df[df.mat=='FN'].count()[0]\n",
    "\n",
    "#PRecision and Recall\n",
    "Re=TP/(FN+TP)\n",
    "Pr=TP/(TP+FP)\n",
    "print('Recall is {} and Precision is {}'.format(round(Re,3),Pr))\n",
    "F_1_Score=2*(Pr*Re/(Pr+Re))\n",
    "print('The F1 Score is {}'.format(F_1_Score))"
   ]
  },
  {
   "cell_type": "code",
   "execution_count": 17,
   "metadata": {},
   "outputs": [],
   "source": [
    "def AUCScore():\n",
    "\n",
    "    # Getting the indices of probability values in descending order. ==> use np.argsort function\n",
    "    ind=np.argsort(df.proba,axis=1)\n",
    "    ind=ind[ : : -1] \n",
    "    # Arrange actual_values and probability_values as same as indices order.\n",
    "    \n",
    "    actual_values = df.y[ind]\n",
    "    probability_values = df.proba[ind]\n",
    "   \n",
    "    tpr=[]\n",
    "    fpr=[]\n",
    "    for threshold in probability_values:\n",
    "        y_predicted = []\n",
    "        for prob in probability_values:\n",
    "             # append 0 to y_predicted if prob < threshold otherwise append 1\n",
    "            if prob < threshold:\n",
    "                y_predicted.append(0)\n",
    "            else:\n",
    "                y_predicted.append(1)\n",
    "        # Now get tn, fp, fn, tp by using actaul_values and y_predicted\n",
    "        tn,fp,fn,tp=0,0,0,0\n",
    "        for i,j in zip(actual_values,y_predicted):\n",
    "            i=int(i)\n",
    "            j=int(j)\n",
    "            if i==j and i==0:\n",
    "                tn=tn+1 \n",
    "            if i!=j and i==0:\n",
    "                fp=fp+1 \n",
    "            if i!=j and i==1:\n",
    "                fn=fn+1 \n",
    "            if i==j and i==1:\n",
    "                tp=tp+1 \n",
    "\n",
    "\n",
    "\n",
    "        tpr.append(tp/(tp+fn))\n",
    "        fpr.append(fp/(fp+tn))\n",
    "   \n",
    "    return np.trapz(tpr, fpr),tpr,fpr\n",
    "\n",
    "\n",
    "a,tpr,fpr=AUCScore()\n"
   ]
  },
  {
   "cell_type": "code",
   "execution_count": 18,
   "metadata": {},
   "outputs": [
    {
     "name": "stdout",
     "output_type": "stream",
     "text": [
      "the accuracy is 0.9900990099009901\n",
      "auc is :0.48829900000000004\n"
     ]
    },
    {
     "data": {
      "image/png": "[encoded data removed]",
      "text/plain": [
       "<Figure size 432x288 with 1 Axes>"
      ]
     },
     "metadata": {
      "needs_background": "light"
     },
     "output_type": "display_data"
    }
   ],
   "source": [
    "print('the accuracy is {}'.format((TP+TN)/(TP+TN+FP+FN)))\n",
    "plt.plot(tpr,fpr)\n",
    "print('auc is :{}'.format(a))"
   ]
  },
  {
   "cell_type": "markdown",
   "metadata": {
    "colab_type": "text",
    "id": "V5KZem1BQvn2"
   },
   "source": [
    "<pre>\n",
    "<font color='red'><b>B.</b></font> Compute performance metrics for the given data <strong>5_b.csv</strong>\n",
    "   <b>Note 1:</b> in this data you can see number of positive points << number of negatives points\n",
    "   <b>Note 2:</b> use pandas or numpy to read the data from <b>5_b.csv</b>\n",
    "   <b>Note 3:</b> you need to derive the class labels from given score</pre> $y^{pred}= \\text{[0 if y_score < 0.5 else 1]}$\n",
    "\n",
    "<pre>\n",
    "<ol>\n",
    "<li> Compute Confusion Matrix </li>\n",
    "<li> Compute F1 Score </li>\n",
    "<li> Compute AUC Score, you need to compute different thresholds and for each threshold compute tpr,fpr and then use               numpy.trapz(tpr_array, fpr_array) <a href='https://stackoverflow.com/q/53603376/4084039'>https://stackoverflow.com/q/53603376/4084039</a>, <a href='https://stackoverflow.com/a/39678975/4084039'>https://stackoverflow.com/a/39678975/4084039</a></li>\n",
    "<li> Compute Accuracy Score </li>\n",
    "</ol>\n",
    "</pre>"
   ]
  },
  {
   "cell_type": "code",
   "execution_count": 22,
   "metadata": {
    "colab": {},
    "colab_type": "code",
    "id": "U2sKlq0YQvn5"
   },
   "outputs": [
    {
     "name": "stdout",
     "output_type": "stream",
     "text": [
      "Recall is 0.187 and Precision is 0.55\n",
      "The F1 Score is 0.2791878172588833\n"
     ]
    }
   ],
   "source": [
    "# write your code\n",
    "df=pd.read_csv('5_b.csv')\n",
    "df.loc[df['proba'] < 0.5, 'pred'] = 0.0\n",
    "df.loc[df['proba'] > 0.5, 'pred'] = 1.0\n",
    "df.pred.value_counts()\n",
    "equal=df['pred']==df['y'] \n",
    "ones=df['y']==1 \n",
    "zeros=df['y']==0\n",
    "\n",
    "not_equal=df['pred']!=df['y'] \n",
    "df.loc[equal & ones, 'mat']='TP'\n",
    "df.loc[equal & zeros, 'mat']='TN'\n",
    "df.loc[not_equal & ones, 'mat']='FP'\n",
    "df.loc[not_equal & zeros, 'mat']='FN'\n",
    "TP=df[df.mat=='TP'].count()[0]\n",
    "TN=df[df.mat=='TN'].count()[0]\n",
    "FP=df[df.mat=='FP'].count()[0]\n",
    "FN=df[df.mat=='FN'].count()[0]\n",
    "\n",
    "#PRecision and Recall\n",
    "Re=TP/(FN+TP)\n",
    "Pr=TP/(TP+FP)\n",
    "print('Recall is {} and Precision is {}'.format(round(Re,3),Pr))\n",
    "F_1_Score=2*(Pr*Re)/(Pr+Re)\n",
    "print('The F1 Score is {}'.format(F_1_Score))\n",
    "#################################################\n",
    "def AUCScore():\n",
    "\n",
    "    # Getting the indices of probability values in descending order. ==> use np.argsort function\n",
    "    ind=np.argsort(df.proba,axis=1)\n",
    "    ind=ind[ : : -1] \n",
    "    # Arrange actual_values and probability_values as same as indices order.\n",
    "\n",
    "    actual_values = df.y[ind]\n",
    "    probability_values = df.proba[ind]\n",
    "\n",
    "    tpr=[]\n",
    "    fpr=[]\n",
    "    for threshold in probability_values:\n",
    "        y_predicted = []\n",
    "        for prob in probability_values:\n",
    "             # append 0 to y_predicted if prob < threshold otherwise append 1\n",
    "            if prob < threshold:\n",
    "                y_predicted.append(0)\n",
    "            elif prob>=threshold:\n",
    "                y_predicted.append(1)\n",
    "        # Now get tn, fp, fn, tp by using actaul_values and y_predicted\n",
    "        tn,fp,fn,tp=0,0,0,0\n",
    "        for i,j in zip(actual_values,y_predicted):\n",
    "            i=int(i)\n",
    "            j=int(j)\n",
    "            #print('i,j is ',i,j)\n",
    "            if i==j and i==0:\n",
    "                tn=tn+1 \n",
    "            if i!=j and i==0:\n",
    "                fp=fp+1 \n",
    "            if i!=j and i==1:\n",
    "                fn=fn+1 \n",
    "            if i==j and i==1:\n",
    "                tp=tp+1 \n",
    "\n",
    "\n",
    "\n",
    "        tpr.append(tp/(tp+fn))\n",
    "        fpr.append(fp/(fp+tn))\n",
    "\n",
    "    return np.trapz(tpr, fpr),tpr,fpr\n",
    "\n",
    "a,tpr,fpr=AUCScore()\n"
   ]
  },
  {
   "cell_type": "code",
   "execution_count": 23,
   "metadata": {},
   "outputs": [
    {
     "name": "stdout",
     "output_type": "stream",
     "text": [
      "the accuracy is 0.9718811881188119\n",
      "auc is :0.9377570000000001\n"
     ]
    },
    {
     "data": {
      "image/png": "[encoded data removed]",
      "text/plain": [
       "<Figure size 432x288 with 1 Axes>"
      ]
     },
     "metadata": {
      "needs_background": "light"
     },
     "output_type": "display_data"
    }
   ],
   "source": [
    "print('the accuracy is {}'.format((TP+TN)/(TP+TN+FP+FN)))\n",
    "plt.plot(tpr,fpr)\n",
    "print('auc is :{}'.format(a))"
   ]
  },
  {
   "cell_type": "code",
   "execution_count": null,
   "metadata": {},
   "outputs": [],
   "source": []
  },
  {
   "cell_type": "markdown",
   "metadata": {
    "colab_type": "text",
    "id": "GiPGonTzQvoB"
   },
   "source": [
    "<font color='red'><b>C.</b></font> Compute the best threshold (similarly to ROC curve computation) of probability which gives lowest values of metric <b>A</b> for the given data <strong>5_c.csv</strong>\n",
    "<br>\n",
    "\n",
    "you will be predicting label of a data points like this: $y^{pred}= \\text{[0 if y_score < threshold  else 1]}$\n",
    "\n",
    "$ A = 500 \\times \\text{number of false negative} + 100 \\times \\text{numebr of false positive}$\n",
    "\n",
    "<pre>\n",
    "   <b>Note 1:</b> in this data you can see number of negative points > number of positive points\n",
    "   <b>Note 2:</b> use pandas or numpy to read the data from <b>5_c.csv</b>\n",
    "</pre>"
   ]
  },
  {
   "cell_type": "code",
   "execution_count": 27,
   "metadata": {},
   "outputs": [],
   "source": [
    "df=pd.read_csv('5_c.csv')\n",
    "\n",
    "\n",
    "def AUCScore():\n",
    "    A={}\n",
    "    tre=[]\n",
    "    # Getting the indices of probability values in descending order. ==> use np.argsort function\n",
    "    ind=np.argsort(df.prob,axis=1)\n",
    "    ind=ind[ : : -1] \n",
    "    # Arrange actual_values and probability_values as same as indices order.\n",
    "\n",
    "    actual_values = df.y[ind]\n",
    "    probability_values = df.prob[ind]\n",
    "\n",
    "    tpr=[]\n",
    "    fpr=[]\n",
    "    for threshold in probability_values:\n",
    "        df.loc[df['prob'] < threshold , 'pred'] = 0.0\n",
    "        df.loc[df['prob'] >= threshold, 'pred'] = 1.0\n",
    "        y_predicted = []\n",
    "        for prob in probability_values:\n",
    "             # append 0 to y_predicted if prob < threshold otherwise append 1\n",
    "            if prob < threshold:\n",
    "                y_predicted.append(0)\n",
    "            elif prob>=threshold:\n",
    "                y_predicted.append(1)\n",
    "        # Now get tn, fp, fn, tp by using actaul_values and y_predicted\n",
    "        tn,fp,fn,tp=0,0,0,0\n",
    "        for i,j in zip(actual_values,y_predicted):\n",
    "            i=int(i)\n",
    "            j=int(j)\n",
    "            #print('i,j is ',i,j)\n",
    "            if i==j and i==0:\n",
    "                tn=tn+1 \n",
    "            if i!=j and i==0:\n",
    "                fp=fp+1 \n",
    "            if i!=j and i==1:\n",
    "                fn=fn+1 \n",
    "            if i==j and i==1:\n",
    "                tp=tp+1 \n",
    "\n",
    "\n",
    "        \n",
    "        A[threshold]=500*fn + 100*fp\n",
    "\n",
    "    return A\n",
    "A=AUCScore()"
   ]
  },
  {
   "cell_type": "code",
   "execution_count": 38,
   "metadata": {
    "colab": {},
    "colab_type": "code",
    "id": "x5HIJzq1QvoE"
   },
   "outputs": [
    {
     "name": "stdout",
     "output_type": "stream",
     "text": [
      "The threshold with min A of 141000 is 0.2300390278970873 \n"
     ]
    }
   ],
   "source": [
    "m=min(A.values())\n",
    "main_treshold=[key for key in A if A[key]==m]\n",
    "print('The threshold with min A of {} is {} '.format(m,main_treshold[0]\n",
    "                                                    ))"
   ]
  },
  {
   "cell_type": "markdown",
   "metadata": {
    "colab_type": "text",
    "id": "sD4CcgjXQvoL"
   },
   "source": [
    "<pre>\n",
    "<font color='red'><b>D.</b></font> Compute performance metrics(for regression) for the given data <strong>5_d.csv</strong>\n",
    "    <b>Note 2:</b> use pandas or numpy to read the data from <b>5_d.csv</b>\n",
    "    <b>Note 1:</b> <b>5_d.csv</b> will having two columns Y and predicted_Y both are real valued features\n",
    "<ol>\n",
    "<li> Compute Mean Square Error </li>\n",
    "<li> Compute MAPE: https://www.youtube.com/watch?v=ly6ztgIkUxk</li>\n",
    "<li> Compute R^2 error: https://en.wikipedia.org/wiki/Coefficient_of_determination#Definitions </li>\n",
    "</ol>\n",
    "</pre>"
   ]
  },
  {
   "cell_type": "code",
   "execution_count": 186,
   "metadata": {},
   "outputs": [
    {
     "name": "stdout",
     "output_type": "stream",
     "text": [
      "The MSE value is :  177.16569974554707\n"
     ]
    }
   ],
   "source": [
    "df=pd.read_csv('5_d.csv')\n",
    "df['abs_err']=abs(df.pred-df.y)\n",
    "df['sq_err']=(df.pred-df.y)**2\n",
    "tot_rows=df.shape[0]\n",
    "MSE=sum(df['sq_err'])/tot_rows\n",
    "print('The MSE value is : ',MSE)"
   ]
  },
  {
   "cell_type": "code",
   "execution_count": 187,
   "metadata": {},
   "outputs": [
    {
     "name": "stdout",
     "output_type": "stream",
     "text": [
      "MAPE value is 12.91 %\n"
     ]
    }
   ],
   "source": [
    "df['nume']=df.abs_err/np.mean(df.y)\n",
    "print('MAPE value is {} %'.format(round(sum(df['nume'])/tot_rows*100,2)))"
   ]
  },
  {
   "cell_type": "code",
   "execution_count": 188,
   "metadata": {},
   "outputs": [
    {
     "data": {
      "text/html": [
       "<div>\n",
       "<style scoped>\n",
       "    .dataframe tbody tr th:only-of-type {\n",
       "        vertical-align: middle;\n",
       "    }\n",
       "\n",
       "    .dataframe tbody tr th {\n",
       "        vertical-align: top;\n",
       "    }\n",
       "\n",
       "    .dataframe thead th {\n",
       "        text-align: right;\n",
       "    }\n",
       "</style>\n",
       "<table border=\"1\" class=\"dataframe\">\n",
       "  <thead>\n",
       "    <tr style=\"text-align: right;\">\n",
       "      <th></th>\n",
       "      <th>y</th>\n",
       "      <th>pred</th>\n",
       "      <th>abs_err</th>\n",
       "      <th>sq_err</th>\n",
       "      <th>nume</th>\n",
       "    </tr>\n",
       "  </thead>\n",
       "  <tbody>\n",
       "    <tr>\n",
       "      <td>0</td>\n",
       "      <td>101.0</td>\n",
       "      <td>100.0</td>\n",
       "      <td>1.0</td>\n",
       "      <td>1.0</td>\n",
       "      <td>0.015024</td>\n",
       "    </tr>\n",
       "    <tr>\n",
       "      <td>1</td>\n",
       "      <td>120.0</td>\n",
       "      <td>100.0</td>\n",
       "      <td>20.0</td>\n",
       "      <td>400.0</td>\n",
       "      <td>0.300471</td>\n",
       "    </tr>\n",
       "    <tr>\n",
       "      <td>2</td>\n",
       "      <td>131.0</td>\n",
       "      <td>113.0</td>\n",
       "      <td>18.0</td>\n",
       "      <td>324.0</td>\n",
       "      <td>0.270424</td>\n",
       "    </tr>\n",
       "    <tr>\n",
       "      <td>3</td>\n",
       "      <td>164.0</td>\n",
       "      <td>125.0</td>\n",
       "      <td>39.0</td>\n",
       "      <td>1521.0</td>\n",
       "      <td>0.585919</td>\n",
       "    </tr>\n",
       "    <tr>\n",
       "      <td>4</td>\n",
       "      <td>154.0</td>\n",
       "      <td>152.0</td>\n",
       "      <td>2.0</td>\n",
       "      <td>4.0</td>\n",
       "      <td>0.030047</td>\n",
       "    </tr>\n",
       "    <tr>\n",
       "      <td>...</td>\n",
       "      <td>...</td>\n",
       "      <td>...</td>\n",
       "      <td>...</td>\n",
       "      <td>...</td>\n",
       "      <td>...</td>\n",
       "    </tr>\n",
       "    <tr>\n",
       "      <td>157195</td>\n",
       "      <td>87.0</td>\n",
       "      <td>83.0</td>\n",
       "      <td>4.0</td>\n",
       "      <td>16.0</td>\n",
       "      <td>0.060094</td>\n",
       "    </tr>\n",
       "    <tr>\n",
       "      <td>157196</td>\n",
       "      <td>97.0</td>\n",
       "      <td>86.0</td>\n",
       "      <td>11.0</td>\n",
       "      <td>121.0</td>\n",
       "      <td>0.165259</td>\n",
       "    </tr>\n",
       "    <tr>\n",
       "      <td>157197</td>\n",
       "      <td>106.0</td>\n",
       "      <td>93.0</td>\n",
       "      <td>13.0</td>\n",
       "      <td>169.0</td>\n",
       "      <td>0.195306</td>\n",
       "    </tr>\n",
       "    <tr>\n",
       "      <td>157198</td>\n",
       "      <td>105.0</td>\n",
       "      <td>101.0</td>\n",
       "      <td>4.0</td>\n",
       "      <td>16.0</td>\n",
       "      <td>0.060094</td>\n",
       "    </tr>\n",
       "    <tr>\n",
       "      <td>157199</td>\n",
       "      <td>81.0</td>\n",
       "      <td>104.0</td>\n",
       "      <td>23.0</td>\n",
       "      <td>529.0</td>\n",
       "      <td>0.345542</td>\n",
       "    </tr>\n",
       "  </tbody>\n",
       "</table>\n",
       "<p>157200 rows × 5 columns</p>\n",
       "</div>"
      ],
      "text/plain": [
       "            y   pred  abs_err  sq_err      nume\n",
       "0       101.0  100.0      1.0     1.0  0.015024\n",
       "1       120.0  100.0     20.0   400.0  0.300471\n",
       "2       131.0  113.0     18.0   324.0  0.270424\n",
       "3       164.0  125.0     39.0  1521.0  0.585919\n",
       "4       154.0  152.0      2.0     4.0  0.030047\n",
       "...       ...    ...      ...     ...       ...\n",
       "157195   87.0   83.0      4.0    16.0  0.060094\n",
       "157196   97.0   86.0     11.0   121.0  0.165259\n",
       "157197  106.0   93.0     13.0   169.0  0.195306\n",
       "157198  105.0  101.0      4.0    16.0  0.060094\n",
       "157199   81.0  104.0     23.0   529.0  0.345542\n",
       "\n",
       "[157200 rows x 5 columns]"
      ]
     },
     "execution_count": 188,
     "metadata": {},
     "output_type": "execute_result"
    }
   ],
   "source": [
    "df"
   ]
  },
  {
   "cell_type": "code",
   "execution_count": 191,
   "metadata": {},
   "outputs": [
    {
     "name": "stdout",
     "output_type": "stream",
     "text": [
      "The R2 value is : 0.9573353892619763\n"
     ]
    }
   ],
   "source": [
    "ss_reg=sum((df.pred-np.mean(df.pred))**2)\n",
    "ss_total=sum((df.y-np.mean(df.pred))**2)\n",
    "R2=ss_reg/ss_total\n",
    "print('The R2 value is :',R2)"
   ]
  },
  {
   "cell_type": "code",
   "execution_count": null,
   "metadata": {},
   "outputs": [],
   "source": []
  },
  {
   "cell_type": "code",
   "execution_count": null,
   "metadata": {},
   "outputs": [],
   "source": []
  },
  {
   "cell_type": "code",
   "execution_count": null,
   "metadata": {},
   "outputs": [],
   "source": []
  }
 ],
 "metadata": {
  "colab": {
   "collapsed_sections": [],
   "name": "5_Performance_metrics_Instructions.ipynb",
   "provenance": []
  },
  "kernelspec": {
   "display_name": "Python 3",
   "language": "python",
   "name": "python3"
  },
  "language_info": {
   "codemirror_mode": {
    "name": "ipython",
    "version": 3
   },
   "file_extension": ".py",
   "mimetype": "text/x-python",
   "name": "python",
   "nbconvert_exporter": "python",
   "pygments_lexer": "ipython3",
   "version": "3.8.5"
  }
 },
 "nbformat": 4,
 "nbformat_minor": 1
}
